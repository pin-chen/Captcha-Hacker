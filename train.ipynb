{
 "cells": [
  {
   "cell_type": "code",
   "execution_count": 5,
   "metadata": {
    "scrolled": true
   },
   "outputs": [
    {
     "ename": "ModuleNotFoundError",
     "evalue": "No module named '_lzma'",
     "output_type": "error",
     "traceback": [
      "\u001b[0;31m---------------------------------------------------------------------------\u001b[0m",
      "\u001b[0;31mModuleNotFoundError\u001b[0m                       Traceback (most recent call last)",
      "Cell \u001b[0;32mIn[5], line 11\u001b[0m\n\u001b[1;32m      9\u001b[0m \u001b[38;5;28;01mimport\u001b[39;00m \u001b[38;5;21;01mtorch\u001b[39;00m\u001b[38;5;21;01m.\u001b[39;00m\u001b[38;5;21;01mnn\u001b[39;00m \u001b[38;5;28;01mas\u001b[39;00m \u001b[38;5;21;01mnn\u001b[39;00m\n\u001b[1;32m     10\u001b[0m \u001b[38;5;28;01mimport\u001b[39;00m \u001b[38;5;21;01mtorch\u001b[39;00m\u001b[38;5;21;01m.\u001b[39;00m\u001b[38;5;21;01mnn\u001b[39;00m\u001b[38;5;21;01m.\u001b[39;00m\u001b[38;5;21;01mfunctional\u001b[39;00m \u001b[38;5;28;01mas\u001b[39;00m \u001b[38;5;21;01mF\u001b[39;00m\n\u001b[0;32m---> 11\u001b[0m \u001b[38;5;28;01mfrom\u001b[39;00m \u001b[38;5;21;01mtorchvision\u001b[39;00m \u001b[38;5;28;01mimport\u001b[39;00m transforms \u001b[38;5;28;01mas\u001b[39;00m  T\n\u001b[1;32m     12\u001b[0m \u001b[38;5;28;01mfrom\u001b[39;00m \u001b[38;5;21;01mtorch\u001b[39;00m\u001b[38;5;21;01m.\u001b[39;00m\u001b[38;5;21;01mutils\u001b[39;00m\u001b[38;5;21;01m.\u001b[39;00m\u001b[38;5;21;01mdata\u001b[39;00m \u001b[38;5;28;01mimport\u001b[39;00m Dataset, DataLoader\n",
      "File \u001b[0;32m~/.local/lib/python3.10/site-packages/torchvision/__init__.py:6\u001b[0m\n\u001b[1;32m      3\u001b[0m \u001b[38;5;28;01mfrom\u001b[39;00m \u001b[38;5;21;01mmodulefinder\u001b[39;00m \u001b[38;5;28;01mimport\u001b[39;00m Module\n\u001b[1;32m      5\u001b[0m \u001b[38;5;28;01mimport\u001b[39;00m \u001b[38;5;21;01mtorch\u001b[39;00m\n\u001b[0;32m----> 6\u001b[0m \u001b[38;5;28;01mfrom\u001b[39;00m \u001b[38;5;21;01mtorchvision\u001b[39;00m \u001b[38;5;28;01mimport\u001b[39;00m _meta_registrations, datasets, io, models, ops, transforms, utils\n\u001b[1;32m      8\u001b[0m \u001b[38;5;28;01mfrom\u001b[39;00m \u001b[38;5;21;01m.\u001b[39;00m\u001b[38;5;21;01mextension\u001b[39;00m \u001b[38;5;28;01mimport\u001b[39;00m _HAS_OPS\n\u001b[1;32m     10\u001b[0m \u001b[38;5;28;01mtry\u001b[39;00m:\n",
      "File \u001b[0;32m~/.local/lib/python3.10/site-packages/torchvision/datasets/__init__.py:1\u001b[0m\n\u001b[0;32m----> 1\u001b[0m \u001b[38;5;28;01mfrom\u001b[39;00m \u001b[38;5;21;01m.\u001b[39;00m\u001b[38;5;21;01m_optical_flow\u001b[39;00m \u001b[38;5;28;01mimport\u001b[39;00m FlyingChairs, FlyingThings3D, HD1K, KittiFlow, Sintel\n\u001b[1;32m      2\u001b[0m \u001b[38;5;28;01mfrom\u001b[39;00m \u001b[38;5;21;01m.\u001b[39;00m\u001b[38;5;21;01m_stereo_matching\u001b[39;00m \u001b[38;5;28;01mimport\u001b[39;00m (\n\u001b[1;32m      3\u001b[0m     CarlaStereo,\n\u001b[1;32m      4\u001b[0m     CREStereo,\n\u001b[0;32m   (...)\u001b[0m\n\u001b[1;32m     12\u001b[0m     SintelStereo,\n\u001b[1;32m     13\u001b[0m )\n\u001b[1;32m     14\u001b[0m \u001b[38;5;28;01mfrom\u001b[39;00m \u001b[38;5;21;01m.\u001b[39;00m\u001b[38;5;21;01mcaltech\u001b[39;00m \u001b[38;5;28;01mimport\u001b[39;00m Caltech101, Caltech256\n",
      "File \u001b[0;32m~/.local/lib/python3.10/site-packages/torchvision/datasets/_optical_flow.py:13\u001b[0m\n\u001b[1;32m     10\u001b[0m \u001b[38;5;28;01mfrom\u001b[39;00m \u001b[38;5;21;01mPIL\u001b[39;00m \u001b[38;5;28;01mimport\u001b[39;00m Image\n\u001b[1;32m     12\u001b[0m \u001b[38;5;28;01mfrom\u001b[39;00m \u001b[38;5;21;01m.\u001b[39;00m\u001b[38;5;21;01m.\u001b[39;00m\u001b[38;5;21;01mio\u001b[39;00m\u001b[38;5;21;01m.\u001b[39;00m\u001b[38;5;21;01mimage\u001b[39;00m \u001b[38;5;28;01mimport\u001b[39;00m _read_png_16\n\u001b[0;32m---> 13\u001b[0m \u001b[38;5;28;01mfrom\u001b[39;00m \u001b[38;5;21;01m.\u001b[39;00m\u001b[38;5;21;01mutils\u001b[39;00m \u001b[38;5;28;01mimport\u001b[39;00m _read_pfm, verify_str_arg\n\u001b[1;32m     14\u001b[0m \u001b[38;5;28;01mfrom\u001b[39;00m \u001b[38;5;21;01m.\u001b[39;00m\u001b[38;5;21;01mvision\u001b[39;00m \u001b[38;5;28;01mimport\u001b[39;00m VisionDataset\n\u001b[1;32m     17\u001b[0m T1 \u001b[38;5;241m=\u001b[39m Tuple[Image\u001b[38;5;241m.\u001b[39mImage, Image\u001b[38;5;241m.\u001b[39mImage, Optional[np\u001b[38;5;241m.\u001b[39mndarray], Optional[np\u001b[38;5;241m.\u001b[39mndarray]]\n",
      "File \u001b[0;32m~/.local/lib/python3.10/site-packages/torchvision/datasets/utils.py:4\u001b[0m\n\u001b[1;32m      2\u001b[0m \u001b[38;5;28;01mimport\u001b[39;00m \u001b[38;5;21;01mgzip\u001b[39;00m\n\u001b[1;32m      3\u001b[0m \u001b[38;5;28;01mimport\u001b[39;00m \u001b[38;5;21;01mhashlib\u001b[39;00m\n\u001b[0;32m----> 4\u001b[0m \u001b[38;5;28;01mimport\u001b[39;00m \u001b[38;5;21;01mlzma\u001b[39;00m\n\u001b[1;32m      5\u001b[0m \u001b[38;5;28;01mimport\u001b[39;00m \u001b[38;5;21;01mos\u001b[39;00m\n\u001b[1;32m      6\u001b[0m \u001b[38;5;28;01mimport\u001b[39;00m \u001b[38;5;21;01mos\u001b[39;00m\u001b[38;5;21;01m.\u001b[39;00m\u001b[38;5;21;01mpath\u001b[39;00m\n",
      "File \u001b[0;32m/usr/local/lib/python3.10/lzma.py:27\u001b[0m\n\u001b[1;32m     25\u001b[0m \u001b[38;5;28;01mimport\u001b[39;00m \u001b[38;5;21;01mio\u001b[39;00m\n\u001b[1;32m     26\u001b[0m \u001b[38;5;28;01mimport\u001b[39;00m \u001b[38;5;21;01mos\u001b[39;00m\n\u001b[0;32m---> 27\u001b[0m \u001b[38;5;28;01mfrom\u001b[39;00m \u001b[38;5;21;01m_lzma\u001b[39;00m \u001b[38;5;28;01mimport\u001b[39;00m \u001b[38;5;241m*\u001b[39m\n\u001b[1;32m     28\u001b[0m \u001b[38;5;28;01mfrom\u001b[39;00m \u001b[38;5;21;01m_lzma\u001b[39;00m \u001b[38;5;28;01mimport\u001b[39;00m _encode_filter_properties, _decode_filter_properties\n\u001b[1;32m     29\u001b[0m \u001b[38;5;28;01mimport\u001b[39;00m \u001b[38;5;21;01m_compression\u001b[39;00m\n",
      "\u001b[0;31mModuleNotFoundError\u001b[0m: No module named '_lzma'"
     ]
    }
   ],
   "source": [
    "import csv\n",
    "import numpy as np\n",
    "import random\n",
    "import os\n",
    "\n",
    "from PIL import Image\n",
    "\n",
    "import torch as t\n",
    "import torch.nn as nn\n",
    "import torch.nn.functional as F\n",
    "from torchvision import transforms as  T\n",
    "from torch.utils.data import Dataset, DataLoader"
   ]
  },
  {
   "cell_type": "code",
   "execution_count": 2,
   "metadata": {
    "execution": {
     "iopub.execute_input": "2022-12-17T19:38:33.417923Z",
     "iopub.status.busy": "2022-12-17T19:38:33.416934Z",
     "iopub.status.idle": "2022-12-17T19:38:33.456035Z",
     "shell.execute_reply": "2022-12-17T19:38:33.454527Z",
     "shell.execute_reply.started": "2022-12-17T19:38:33.417877Z"
    }
   },
   "outputs": [],
   "source": [
    "TRAIN_PATH = \"/kaggle/input/mlhw5-data/train\"\n",
    "TEST_PATH = \"/kaggle/input/mlhw5-data/test\"\n",
    "device = \"cuda\" if t.cuda.is_available() else \"cpu\""
   ]
  },
  {
   "cell_type": "code",
   "execution_count": null,
   "metadata": {},
   "outputs": [],
   "source": [
    "DATA_PATH = \"./train/\""
   ]
  },
  {
   "cell_type": "code",
   "execution_count": 3,
   "metadata": {
    "execution": {
     "iopub.execute_input": "2022-12-17T19:38:33.458598Z",
     "iopub.status.busy": "2022-12-17T19:38:33.457729Z",
     "iopub.status.idle": "2022-12-17T19:38:33.467423Z",
     "shell.execute_reply": "2022-12-17T19:38:33.466734Z",
     "shell.execute_reply.started": "2022-12-17T19:38:33.458560Z"
    }
   },
   "outputs": [
    {
     "name": "stdout",
     "output_type": "stream",
     "text": [
      "{'0': 0, '1': 1, '2': 2, '3': 3, '4': 4, '5': 5, '6': 6, '7': 7, '8': 8, '9': 9, 'a': 10, 'b': 11, 'c': 12, 'd': 13, 'e': 14, 'f': 15, 'g': 16, 'h': 17, 'i': 18, 'j': 19, 'k': 20, 'l': 21, 'm': 22, 'n': 23, 'o': 24, 'p': 25, 'q': 26, 'r': 27, 's': 28, 't': 29, 'u': 30, 'v': 31, 'w': 32, 'x': 33, 'y': 34, 'z': 35}\n"
     ]
    }
   ],
   "source": [
    "keys = ['0', '1', '2', '3', '4', '5', '6', '7', '8', '9', 'a', 'b', 'c', 'd', 'e', 'f', 'g', 'h', 'i', 'j', 'k', 'l', 'm', 'n', 'o', 'p', 'q', 'r', 's', 't', 'u', 'v', 'w', 'x', 'y', 'z']\n",
    "values = [ i for i in range(36)]\n",
    "elements = dict(zip(keys, values))\n",
    "print(elements)"
   ]
  },
  {
   "cell_type": "code",
   "execution_count": 4,
   "metadata": {
    "execution": {
     "iopub.execute_input": "2022-12-17T19:38:33.471639Z",
     "iopub.status.busy": "2022-12-17T19:38:33.471127Z",
     "iopub.status.idle": "2022-12-17T19:38:33.479686Z",
     "shell.execute_reply": "2022-12-17T19:38:33.478566Z",
     "shell.execute_reply.started": "2022-12-17T19:38:33.471603Z"
    }
   },
   "outputs": [
    {
     "name": "stdout",
     "output_type": "stream",
     "text": [
      "[2]\n",
      "[27, 7]\n",
      "[15, 3, 10, 5]\n"
     ]
    }
   ],
   "source": [
    "def numOfElements(task):\n",
    "    if task == 'task1':\n",
    "        return int(1)\n",
    "    elif task == 'task2':\n",
    "        return int(2)\n",
    "    else:\n",
    "        return int(4)\n",
    "\n",
    "def stol(s, task='task1'):\n",
    "    l = list()\n",
    "    for i in range(numOfElements(task)):\n",
    "        l.append(elements[s[i]])\n",
    "    return l\n",
    "\n",
    "print(stol('2', task='task1'))\n",
    "print(stol('r7', task='task2'))\n",
    "print(stol('f3a5', task='task3'))\n",
    "print(stol('f3a5', task='task4'))"
   ]
  },
  {
   "cell_type": "code",
   "execution_count": 5,
   "metadata": {
    "execution": {
     "iopub.execute_input": "2022-12-17T19:38:33.483146Z",
     "iopub.status.busy": "2022-12-17T19:38:33.482875Z",
     "iopub.status.idle": "2022-12-17T19:38:33.492480Z",
     "shell.execute_reply": "2022-12-17T19:38:33.491784Z",
     "shell.execute_reply.started": "2022-12-17T19:38:33.483116Z"
    }
   },
   "outputs": [],
   "source": [
    "class LoadData(Dataset):\n",
    "    def __init__(self, data, root, task=\"task1\", H=72, W=72):\n",
    "        self.data = [sample for sample in data if sample[0].startswith(task)]\n",
    "        self.root = root\n",
    "        self.task = task\n",
    "        self.transform = T.Compose([\n",
    "            T.Resize((H, W)),\n",
    "            T.ToTensor(),\n",
    "            T.Normalize(mean=[0.5, 0.5, 0.5], std=[0.5, 0.5, 0.5])\n",
    "        ])\n",
    "    \n",
    "    def __getitem__(self, index):\n",
    "        filename, label = self.data[index]\n",
    "        img = Image.open(f\"{self.root}/{filename}\")\n",
    "        img = self.transform(img)\n",
    "        return img, t.Tensor(stol(label, self.task))\n",
    "\n",
    "    def __len__(self):\n",
    "        return len(self.data)"
   ]
  },
  {
   "cell_type": "code",
   "execution_count": 54,
   "metadata": {
    "execution": {
     "iopub.execute_input": "2022-12-17T23:19:58.012882Z",
     "iopub.status.busy": "2022-12-17T23:19:58.012413Z",
     "iopub.status.idle": "2022-12-17T23:19:58.775919Z",
     "shell.execute_reply": "2022-12-17T23:19:58.774975Z",
     "shell.execute_reply.started": "2022-12-17T23:19:58.012833Z"
    }
   },
   "outputs": [
    {
     "name": "stdout",
     "output_type": "stream",
     "text": [
      "Number of training data: 153575\n",
      "Number of validation data: 51369\n"
     ]
    }
   ],
   "source": [
    "train_data = []\n",
    "val_data = []\n",
    "\n",
    "num_t = 0\n",
    "num_v = 0\n",
    "\n",
    "with open(f'{TRAIN_PATH}/annotations.csv', newline='') as csvfile:\n",
    "    for row in csv.reader(csvfile, delimiter=','):\n",
    "        if row[1] == 'label':\n",
    "            continue\n",
    "        if row[0].startswith(\"task1\") and len(row[1]) != 1:\n",
    "            continue\n",
    "        if row[0].startswith(\"task2\") and len(row[1]) != 2:\n",
    "            continue\n",
    "        if row[0].startswith(\"task3\") and len(row[1]) != 4:\n",
    "            continue\n",
    "        if random.random() < 0.75:\n",
    "            train_data.append(row)\n",
    "            num_t += 1\n",
    "        else:\n",
    "            val_data.append(row)\n",
    "            num_v += 1\n",
    "\n",
    "print('Number of training data:', num_t)\n",
    "print('Number of validation data:', num_v)"
   ]
  },
  {
   "cell_type": "code",
   "execution_count": 7,
   "metadata": {
    "execution": {
     "iopub.execute_input": "2022-12-17T19:38:34.099619Z",
     "iopub.status.busy": "2022-12-17T19:38:34.099238Z",
     "iopub.status.idle": "2022-12-17T19:38:34.104798Z",
     "shell.execute_reply": "2022-12-17T19:38:34.103678Z",
     "shell.execute_reply.started": "2022-12-17T19:38:34.099583Z"
    }
   },
   "outputs": [],
   "source": [
    "learningRate = 1e-3\n",
    "epochs = 200\n",
    "batchSize = 500"
   ]
  },
  {
   "cell_type": "code",
   "execution_count": 8,
   "metadata": {
    "execution": {
     "iopub.execute_input": "2022-12-17T19:38:34.107305Z",
     "iopub.status.busy": "2022-12-17T19:38:34.106806Z",
     "iopub.status.idle": "2022-12-17T19:38:34.114564Z",
     "shell.execute_reply": "2022-12-17T19:38:34.113289Z",
     "shell.execute_reply.started": "2022-12-17T19:38:34.107264Z"
    }
   },
   "outputs": [],
   "source": [
    "def numType(task):\n",
    "    if task == 'task1':\n",
    "        return int(10)\n",
    "    else:\n",
    "        return int(36)"
   ]
  },
  {
   "cell_type": "code",
   "execution_count": 9,
   "metadata": {
    "execution": {
     "iopub.execute_input": "2022-12-17T19:38:34.117051Z",
     "iopub.status.busy": "2022-12-17T19:38:34.116653Z",
     "iopub.status.idle": "2022-12-17T19:38:34.127539Z",
     "shell.execute_reply": "2022-12-17T19:38:34.126558Z",
     "shell.execute_reply.started": "2022-12-17T19:38:34.116963Z"
    }
   },
   "outputs": [],
   "source": [
    "class Residual(nn.Module):\n",
    "    def __init__(self, inChannel, outChannel, stride=1):\n",
    "        super(Residual, self).__init__()\n",
    "        self.conv2_1 = nn.Conv2d(inChannel, outChannel, kernel_size=3, stride=stride, padding=1, bias=False)\n",
    "        self.bn2_1 = nn.BatchNorm2d(outChannel, track_running_stats=True)\n",
    "        self.relu = nn.ReLU(inplace=True)\n",
    "        self.conv2_2 = nn.Conv2d(outChannel, outChannel, kernel_size=3, stride=1, padding=1, bias=False)\n",
    "        self.bn2_2 = nn.BatchNorm2d(outChannel, track_running_stats=True)\n",
    "        self.shortcut = nn.Sequential()\n",
    "        if stride != 1 or inChannel != outChannel:\n",
    "            self.shortcut = nn.Sequential(\n",
    "                nn.Conv2d(inChannel, outChannel, kernel_size=1, stride=stride, bias=False),\n",
    "                nn.BatchNorm2d(outChannel, track_running_stats=True)\n",
    "            )\n",
    "\n",
    "    def forward(self, x):\n",
    "        out = self.conv2_1(x)\n",
    "        out = self.bn2_1(out)\n",
    "        out = self.relu(out)\n",
    "        out = self.conv2_2(out)\n",
    "        out = self.bn2_2(out)\n",
    "        out += self.shortcut(x)\n",
    "        out = self.relu(out)\n",
    "        return out"
   ]
  },
  {
   "cell_type": "code",
   "execution_count": 10,
   "metadata": {
    "execution": {
     "iopub.execute_input": "2022-12-17T19:38:34.129806Z",
     "iopub.status.busy": "2022-12-17T19:38:34.129122Z",
     "iopub.status.idle": "2022-12-17T19:38:34.144672Z",
     "shell.execute_reply": "2022-12-17T19:38:34.143775Z",
     "shell.execute_reply.started": "2022-12-17T19:38:34.129769Z"
    }
   },
   "outputs": [],
   "source": [
    "class Model(nn.Module):\n",
    "    def __init__(self, Residual, task='task1'):\n",
    "        super(Model, self).__init__()\n",
    "        self.task = task\n",
    "        self.inChannel = 36\n",
    "        self.conv1 = nn.Sequential(\n",
    "            nn.Conv2d(3, 36, kernel_size=3, stride=1, padding=1, bias=False),\n",
    "            nn.BatchNorm2d(36, track_running_stats=True),\n",
    "            nn.ReLU()\n",
    "        )\n",
    "        self.layer1 = self.make_layer(Residual, outChannel=36, num=2, stride=1)\n",
    "        self.layer2 = self.make_layer(Residual, outChannel=72, num=2, stride=2)\n",
    "        self.layer3 = self.make_layer(Residual, outChannel=144, num=2, stride=2)\n",
    "        self.layer4 = self.make_layer(Residual, outChannel=288, num=2, stride=2)\n",
    "        self.fc1 = nn.Linear(288, numType(task))\n",
    "        self.fc2 = nn.Linear(288, numType(task))\n",
    "        self.fc3 = nn.Linear(288, numType(task))\n",
    "        self.fc4 = nn.Linear(288, numType(task))\n",
    "\n",
    "    def make_layer(self, Residual, outChannel, num, stride):\n",
    "        layers = list()\n",
    "        strides = [stride] + [1] * (num - 1)\n",
    "        for stride in strides:\n",
    "            layers.append(Residual(self.inChannel, outChannel, stride))\n",
    "            self.inChannel = outChannel\n",
    "        return nn.Sequential(*layers)\n",
    "\n",
    "    def forward(self, x):       #print(\"IN\")#print(x.shape)\n",
    "        x = self.conv1(x)       #print(\"conv1\")#print(x.shape)\n",
    "        x = self.layer1(x)      #print(\"layer1\")#print(x.shape)\n",
    "        x = self.layer2(x)      #print(\"layer2\")#print(x.shape)\n",
    "        x = self.layer3(x)      #print(\"layer3\")#print(x.shape)\n",
    "        x = self.layer4(x)      #print(\"layer4\")#print(x.shape)\n",
    "        x = F.avg_pool2d(x, 9)  #print(\"avg_pool2d\")#print(x.shape)\n",
    "        x = x.view(-1, 288)\n",
    "        y = list()\n",
    "        y.append(self.fc1(x))\n",
    "        if self.task != 'task1':\n",
    "            y.append(self.fc2(x))\n",
    "            if self.task != 'task2':\n",
    "                y.append(self.fc3(x))\n",
    "                y.append(self.fc4(x))\n",
    "        return y"
   ]
  },
  {
   "cell_type": "code",
   "execution_count": 43,
   "metadata": {
    "execution": {
     "iopub.execute_input": "2022-12-17T23:05:23.864465Z",
     "iopub.status.busy": "2022-12-17T23:05:23.863979Z",
     "iopub.status.idle": "2022-12-17T23:05:23.876689Z",
     "shell.execute_reply": "2022-12-17T23:05:23.875517Z",
     "shell.execute_reply.started": "2022-12-17T23:05:23.864403Z"
    }
   },
   "outputs": [],
   "source": [
    "def train(model, train_dl, val_dl):\n",
    "    stopCounter = 0\n",
    "    optimizer = t.optim.Adam(model.parameters(), lr=learningRate)\n",
    "    loss_fn = nn.CrossEntropyLoss()\n",
    "    for epoch in range(epochs):\n",
    "        print(f\"Epoch [{epoch}]\")\n",
    "        model.train()\n",
    "        for image, label in train_dl:\n",
    "            image = image.to(device)\n",
    "            label = label.to(device)\n",
    "            pred = model(image)\n",
    "            #print(len(pred))\n",
    "            #print(label.shape)\n",
    "            #print(\"---------\")\n",
    "            num = label.shape[1]\n",
    "            loss = 0.0\n",
    "            for i in range(num):\n",
    "                label_tmp = label.long()[:,i]\n",
    "                #print(\"*******\")\n",
    "                pred_tmp = pred[i]\n",
    "                #print(pred_tmp.shape)\n",
    "                loss += loss_fn(pred_tmp, label_tmp)\n",
    "                \n",
    "            optimizer.zero_grad()\n",
    "            loss.backward()\n",
    "            optimizer.step()\n",
    "\n",
    "        sample_count = 0\n",
    "        correct_count = 0\n",
    "        model.eval()\n",
    "        for image, label in val_dl:\n",
    "            image = image.to(device)\n",
    "            label = label.to(device)\n",
    "            pred = model(image)\n",
    "            num = label.shape[1]\n",
    "            loss = 0.0\n",
    "            same = [True for i in range(len(image))]\n",
    "            for i in range(num):\n",
    "                label_tmp = label.long()[:,i]\n",
    "                pred_tmp = pred[i]\n",
    "                loss += loss_fn(pred_tmp, label_tmp)\n",
    "                pred_tmp = t.argmax(pred_tmp, dim=1)\n",
    "                for j in range(len(image)):\n",
    "                    if label_tmp[j] != pred_tmp[j]:\n",
    "                        same[j] = False\n",
    "                    \n",
    "            sample_count += len(image)\n",
    "            correct_count += sum(same)\n",
    "            \n",
    "        acc = correct_count / sample_count\n",
    "        print(\"accuracy (validation):\", acc)\n",
    "        if acc > 0.999:\n",
    "            stopCounter += 1\n",
    "        else:\n",
    "            stopCounter = 0\n",
    "        #if stopCounter > 2:\n",
    "        #    break"
   ]
  },
  {
   "cell_type": "code",
   "execution_count": 55,
   "metadata": {
    "execution": {
     "iopub.execute_input": "2022-12-17T23:20:27.802851Z",
     "iopub.status.busy": "2022-12-17T23:20:27.802478Z",
     "iopub.status.idle": "2022-12-17T23:20:27.808224Z",
     "shell.execute_reply": "2022-12-17T23:20:27.807050Z",
     "shell.execute_reply.started": "2022-12-17T23:20:27.802812Z"
    }
   },
   "outputs": [],
   "source": [
    "#task1\n",
    "learningRate = 1e-3\n",
    "epochs = 100\n",
    "batchSize = 128"
   ]
  },
  {
   "cell_type": "code",
   "execution_count": 56,
   "metadata": {
    "execution": {
     "iopub.execute_input": "2022-12-17T23:20:29.983016Z",
     "iopub.status.busy": "2022-12-17T23:20:29.982654Z",
     "iopub.status.idle": "2022-12-17T23:20:30.030493Z",
     "shell.execute_reply": "2022-12-17T23:20:30.029615Z",
     "shell.execute_reply.started": "2022-12-17T23:20:29.982985Z"
    }
   },
   "outputs": [],
   "source": [
    "task1_train_ds = LoadData(train_data, root=TRAIN_PATH, task='task1')\n",
    "task1_train_dl = DataLoader(task1_train_ds, batch_size=batchSize, num_workers=2, drop_last=True, shuffle=True)\n",
    "\n",
    "task1_val_ds = LoadData(val_data, root=TRAIN_PATH, task='task1')\n",
    "task1_val_dl = DataLoader(task1_val_ds, batch_size=batchSize, num_workers=2, drop_last=False, shuffle=False)"
   ]
  },
  {
   "cell_type": "code",
   "execution_count": 57,
   "metadata": {
    "execution": {
     "iopub.execute_input": "2022-12-17T23:20:31.846540Z",
     "iopub.status.busy": "2022-12-17T23:20:31.846166Z",
     "iopub.status.idle": "2022-12-17T23:20:31.899158Z",
     "shell.execute_reply": "2022-12-17T23:20:31.898018Z",
     "shell.execute_reply.started": "2022-12-17T23:20:31.846508Z"
    },
    "scrolled": true
   },
   "outputs": [
    {
     "name": "stdout",
     "output_type": "stream",
     "text": [
      "Model(\n",
      "  (conv1): Sequential(\n",
      "    (0): Conv2d(3, 36, kernel_size=(3, 3), stride=(1, 1), padding=(1, 1), bias=False)\n",
      "    (1): BatchNorm2d(36, eps=1e-05, momentum=0.1, affine=True, track_running_stats=True)\n",
      "    (2): ReLU()\n",
      "  )\n",
      "  (layer1): Sequential(\n",
      "    (0): Residual(\n",
      "      (conv2_1): Conv2d(36, 36, kernel_size=(3, 3), stride=(1, 1), padding=(1, 1), bias=False)\n",
      "      (bn2_1): BatchNorm2d(36, eps=1e-05, momentum=0.1, affine=True, track_running_stats=True)\n",
      "      (relu): ReLU(inplace=True)\n",
      "      (conv2_2): Conv2d(36, 36, kernel_size=(3, 3), stride=(1, 1), padding=(1, 1), bias=False)\n",
      "      (bn2_2): BatchNorm2d(36, eps=1e-05, momentum=0.1, affine=True, track_running_stats=True)\n",
      "      (shortcut): Sequential()\n",
      "    )\n",
      "    (1): Residual(\n",
      "      (conv2_1): Conv2d(36, 36, kernel_size=(3, 3), stride=(1, 1), padding=(1, 1), bias=False)\n",
      "      (bn2_1): BatchNorm2d(36, eps=1e-05, momentum=0.1, affine=True, track_running_stats=True)\n",
      "      (relu): ReLU(inplace=True)\n",
      "      (conv2_2): Conv2d(36, 36, kernel_size=(3, 3), stride=(1, 1), padding=(1, 1), bias=False)\n",
      "      (bn2_2): BatchNorm2d(36, eps=1e-05, momentum=0.1, affine=True, track_running_stats=True)\n",
      "      (shortcut): Sequential()\n",
      "    )\n",
      "  )\n",
      "  (layer2): Sequential(\n",
      "    (0): Residual(\n",
      "      (conv2_1): Conv2d(36, 72, kernel_size=(3, 3), stride=(2, 2), padding=(1, 1), bias=False)\n",
      "      (bn2_1): BatchNorm2d(72, eps=1e-05, momentum=0.1, affine=True, track_running_stats=True)\n",
      "      (relu): ReLU(inplace=True)\n",
      "      (conv2_2): Conv2d(72, 72, kernel_size=(3, 3), stride=(1, 1), padding=(1, 1), bias=False)\n",
      "      (bn2_2): BatchNorm2d(72, eps=1e-05, momentum=0.1, affine=True, track_running_stats=True)\n",
      "      (shortcut): Sequential(\n",
      "        (0): Conv2d(36, 72, kernel_size=(1, 1), stride=(2, 2), bias=False)\n",
      "        (1): BatchNorm2d(72, eps=1e-05, momentum=0.1, affine=True, track_running_stats=True)\n",
      "      )\n",
      "    )\n",
      "    (1): Residual(\n",
      "      (conv2_1): Conv2d(72, 72, kernel_size=(3, 3), stride=(1, 1), padding=(1, 1), bias=False)\n",
      "      (bn2_1): BatchNorm2d(72, eps=1e-05, momentum=0.1, affine=True, track_running_stats=True)\n",
      "      (relu): ReLU(inplace=True)\n",
      "      (conv2_2): Conv2d(72, 72, kernel_size=(3, 3), stride=(1, 1), padding=(1, 1), bias=False)\n",
      "      (bn2_2): BatchNorm2d(72, eps=1e-05, momentum=0.1, affine=True, track_running_stats=True)\n",
      "      (shortcut): Sequential()\n",
      "    )\n",
      "  )\n",
      "  (layer3): Sequential(\n",
      "    (0): Residual(\n",
      "      (conv2_1): Conv2d(72, 144, kernel_size=(3, 3), stride=(2, 2), padding=(1, 1), bias=False)\n",
      "      (bn2_1): BatchNorm2d(144, eps=1e-05, momentum=0.1, affine=True, track_running_stats=True)\n",
      "      (relu): ReLU(inplace=True)\n",
      "      (conv2_2): Conv2d(144, 144, kernel_size=(3, 3), stride=(1, 1), padding=(1, 1), bias=False)\n",
      "      (bn2_2): BatchNorm2d(144, eps=1e-05, momentum=0.1, affine=True, track_running_stats=True)\n",
      "      (shortcut): Sequential(\n",
      "        (0): Conv2d(72, 144, kernel_size=(1, 1), stride=(2, 2), bias=False)\n",
      "        (1): BatchNorm2d(144, eps=1e-05, momentum=0.1, affine=True, track_running_stats=True)\n",
      "      )\n",
      "    )\n",
      "    (1): Residual(\n",
      "      (conv2_1): Conv2d(144, 144, kernel_size=(3, 3), stride=(1, 1), padding=(1, 1), bias=False)\n",
      "      (bn2_1): BatchNorm2d(144, eps=1e-05, momentum=0.1, affine=True, track_running_stats=True)\n",
      "      (relu): ReLU(inplace=True)\n",
      "      (conv2_2): Conv2d(144, 144, kernel_size=(3, 3), stride=(1, 1), padding=(1, 1), bias=False)\n",
      "      (bn2_2): BatchNorm2d(144, eps=1e-05, momentum=0.1, affine=True, track_running_stats=True)\n",
      "      (shortcut): Sequential()\n",
      "    )\n",
      "  )\n",
      "  (layer4): Sequential(\n",
      "    (0): Residual(\n",
      "      (conv2_1): Conv2d(144, 288, kernel_size=(3, 3), stride=(2, 2), padding=(1, 1), bias=False)\n",
      "      (bn2_1): BatchNorm2d(288, eps=1e-05, momentum=0.1, affine=True, track_running_stats=True)\n",
      "      (relu): ReLU(inplace=True)\n",
      "      (conv2_2): Conv2d(288, 288, kernel_size=(3, 3), stride=(1, 1), padding=(1, 1), bias=False)\n",
      "      (bn2_2): BatchNorm2d(288, eps=1e-05, momentum=0.1, affine=True, track_running_stats=True)\n",
      "      (shortcut): Sequential(\n",
      "        (0): Conv2d(144, 288, kernel_size=(1, 1), stride=(2, 2), bias=False)\n",
      "        (1): BatchNorm2d(288, eps=1e-05, momentum=0.1, affine=True, track_running_stats=True)\n",
      "      )\n",
      "    )\n",
      "    (1): Residual(\n",
      "      (conv2_1): Conv2d(288, 288, kernel_size=(3, 3), stride=(1, 1), padding=(1, 1), bias=False)\n",
      "      (bn2_1): BatchNorm2d(288, eps=1e-05, momentum=0.1, affine=True, track_running_stats=True)\n",
      "      (relu): ReLU(inplace=True)\n",
      "      (conv2_2): Conv2d(288, 288, kernel_size=(3, 3), stride=(1, 1), padding=(1, 1), bias=False)\n",
      "      (bn2_2): BatchNorm2d(288, eps=1e-05, momentum=0.1, affine=True, track_running_stats=True)\n",
      "      (shortcut): Sequential()\n",
      "    )\n",
      "  )\n",
      "  (fc1): Linear(in_features=288, out_features=10, bias=True)\n",
      "  (fc2): Linear(in_features=288, out_features=10, bias=True)\n",
      "  (fc3): Linear(in_features=288, out_features=10, bias=True)\n",
      "  (fc4): Linear(in_features=288, out_features=10, bias=True)\n",
      ")\n"
     ]
    }
   ],
   "source": [
    "task1_model = Model(Residual, task='task1').to(device)\n",
    "print(task1_model)"
   ]
  },
  {
   "cell_type": "code",
   "execution_count": 58,
   "metadata": {
    "execution": {
     "iopub.execute_input": "2022-12-17T23:20:35.238923Z",
     "iopub.status.busy": "2022-12-17T23:20:35.238567Z",
     "iopub.status.idle": "2022-12-17T23:32:08.091592Z",
     "shell.execute_reply": "2022-12-17T23:32:08.090051Z",
     "shell.execute_reply.started": "2022-12-17T23:20:35.238893Z"
    }
   },
   "outputs": [
    {
     "name": "stdout",
     "output_type": "stream",
     "text": [
      "Epoch [0]\n",
      "accuracy (validation): 0.7686864219371959\n",
      "Epoch [1]\n",
      "accuracy (validation): 0.9960194604157453\n",
      "Epoch [2]\n",
      "accuracy (validation): 0.8796992481203008\n",
      "Epoch [3]\n",
      "accuracy (validation): 0.7739938080495357\n",
      "Epoch [4]\n",
      "accuracy (validation): 0.9898275099513489\n",
      "Epoch [5]\n",
      "accuracy (validation): 0.8925254312251216\n",
      "Epoch [6]\n",
      "accuracy (validation): 0.9995577178239717\n",
      "Epoch [7]\n",
      "accuracy (validation): 0.9995577178239717\n",
      "Epoch [8]\n",
      "accuracy (validation): 0.9995577178239717\n",
      "Epoch [9]\n",
      "accuracy (validation): 0.9995577178239717\n",
      "Epoch [10]\n",
      "accuracy (validation): 0.9995577178239717\n",
      "Epoch [11]\n",
      "accuracy (validation): 0.9995577178239717\n",
      "Epoch [12]\n",
      "accuracy (validation): 0.9995577178239717\n",
      "Epoch [13]\n",
      "accuracy (validation): 0.9995577178239717\n",
      "Epoch [14]\n",
      "accuracy (validation): 0.9995577178239717\n",
      "Epoch [15]\n",
      "accuracy (validation): 0.9995577178239717\n",
      "Epoch [16]\n",
      "accuracy (validation): 0.9995577178239717\n",
      "Epoch [17]\n",
      "accuracy (validation): 0.9995577178239717\n",
      "Epoch [18]\n",
      "accuracy (validation): 0.9995577178239717\n",
      "Epoch [19]\n",
      "accuracy (validation): 0.9995577178239717\n",
      "Epoch [20]\n",
      "accuracy (validation): 0.9995577178239717\n",
      "Epoch [21]\n",
      "accuracy (validation): 0.9995577178239717\n",
      "Epoch [22]\n",
      "accuracy (validation): 0.9995577178239717\n",
      "Epoch [23]\n",
      "accuracy (validation): 0.9995577178239717\n",
      "Epoch [24]\n",
      "accuracy (validation): 0.9995577178239717\n",
      "Epoch [25]\n",
      "accuracy (validation): 0.9995577178239717\n",
      "Epoch [26]\n",
      "accuracy (validation): 0.9995577178239717\n",
      "Epoch [27]\n",
      "accuracy (validation): 0.9995577178239717\n",
      "Epoch [28]\n",
      "accuracy (validation): 0.9995577178239717\n",
      "Epoch [29]\n",
      "accuracy (validation): 0.9995577178239717\n",
      "Epoch [30]\n",
      "accuracy (validation): 0.9995577178239717\n",
      "Epoch [31]\n",
      "accuracy (validation): 0.9995577178239717\n",
      "Epoch [32]\n",
      "accuracy (validation): 0.9995577178239717\n",
      "Epoch [33]\n",
      "accuracy (validation): 0.9995577178239717\n",
      "Epoch [34]\n",
      "accuracy (validation): 0.9995577178239717\n",
      "Epoch [35]\n",
      "accuracy (validation): 0.9995577178239717\n",
      "Epoch [36]\n",
      "accuracy (validation): 0.9995577178239717\n",
      "Epoch [37]\n",
      "accuracy (validation): 0.9995577178239717\n",
      "Epoch [38]\n",
      "accuracy (validation): 1.0\n",
      "Epoch [39]\n",
      "accuracy (validation): 0.9995577178239717\n",
      "Epoch [40]\n",
      "accuracy (validation): 0.9995577178239717\n",
      "Epoch [41]\n",
      "accuracy (validation): 0.9995577178239717\n",
      "Epoch [42]\n",
      "accuracy (validation): 0.9995577178239717\n",
      "Epoch [43]\n",
      "accuracy (validation): 0.9995577178239717\n",
      "Epoch [44]\n",
      "accuracy (validation): 0.9995577178239717\n",
      "Epoch [45]\n",
      "accuracy (validation): 0.9995577178239717\n",
      "Epoch [46]\n",
      "accuracy (validation): 0.9995577178239717\n",
      "Epoch [47]\n",
      "accuracy (validation): 0.9995577178239717\n",
      "Epoch [48]\n",
      "accuracy (validation): 0.9995577178239717\n",
      "Epoch [49]\n",
      "accuracy (validation): 0.9995577178239717\n",
      "Epoch [50]\n",
      "accuracy (validation): 0.9995577178239717\n",
      "Epoch [51]\n",
      "accuracy (validation): 0.9995577178239717\n",
      "Epoch [52]\n",
      "accuracy (validation): 0.9995577178239717\n",
      "Epoch [53]\n",
      "accuracy (validation): 0.9995577178239717\n",
      "Epoch [54]\n",
      "accuracy (validation): 0.9995577178239717\n",
      "Epoch [55]\n",
      "accuracy (validation): 1.0\n",
      "Epoch [56]\n",
      "accuracy (validation): 0.9995577178239717\n",
      "Epoch [57]\n",
      "accuracy (validation): 1.0\n",
      "Epoch [58]\n",
      "accuracy (validation): 1.0\n",
      "Epoch [59]\n"
     ]
    },
    {
     "ename": "KeyboardInterrupt",
     "evalue": "",
     "output_type": "error",
     "traceback": [
      "\u001b[0;31m---------------------------------------------------------------------------\u001b[0m",
      "\u001b[0;31mKeyboardInterrupt\u001b[0m                         Traceback (most recent call last)",
      "\u001b[0;32m/tmp/ipykernel_21286/3682615563.py\u001b[0m in \u001b[0;36m<module>\u001b[0;34m\u001b[0m\n\u001b[0;32m----> 1\u001b[0;31m \u001b[0mtrain\u001b[0m\u001b[0;34m(\u001b[0m\u001b[0mtask1_model\u001b[0m\u001b[0;34m,\u001b[0m \u001b[0mtask1_train_dl\u001b[0m\u001b[0;34m,\u001b[0m \u001b[0mtask1_val_dl\u001b[0m\u001b[0;34m)\u001b[0m\u001b[0;34m\u001b[0m\u001b[0;34m\u001b[0m\u001b[0m\n\u001b[0m",
      "\u001b[0;32m/tmp/ipykernel_21286/2950219584.py\u001b[0m in \u001b[0;36mtrain\u001b[0;34m(model, train_dl, val_dl)\u001b[0m\n\u001b[1;32m      7\u001b[0m         \u001b[0mmodel\u001b[0m\u001b[0;34m.\u001b[0m\u001b[0mtrain\u001b[0m\u001b[0;34m(\u001b[0m\u001b[0;34m)\u001b[0m\u001b[0;34m\u001b[0m\u001b[0;34m\u001b[0m\u001b[0m\n\u001b[1;32m      8\u001b[0m         \u001b[0;32mfor\u001b[0m \u001b[0mimage\u001b[0m\u001b[0;34m,\u001b[0m \u001b[0mlabel\u001b[0m \u001b[0;32min\u001b[0m \u001b[0mtrain_dl\u001b[0m\u001b[0;34m:\u001b[0m\u001b[0;34m\u001b[0m\u001b[0;34m\u001b[0m\u001b[0m\n\u001b[0;32m----> 9\u001b[0;31m             \u001b[0mimage\u001b[0m \u001b[0;34m=\u001b[0m \u001b[0mimage\u001b[0m\u001b[0;34m.\u001b[0m\u001b[0mto\u001b[0m\u001b[0;34m(\u001b[0m\u001b[0mdevice\u001b[0m\u001b[0;34m)\u001b[0m\u001b[0;34m\u001b[0m\u001b[0;34m\u001b[0m\u001b[0m\n\u001b[0m\u001b[1;32m     10\u001b[0m             \u001b[0mlabel\u001b[0m \u001b[0;34m=\u001b[0m \u001b[0mlabel\u001b[0m\u001b[0;34m.\u001b[0m\u001b[0mto\u001b[0m\u001b[0;34m(\u001b[0m\u001b[0mdevice\u001b[0m\u001b[0;34m)\u001b[0m\u001b[0;34m\u001b[0m\u001b[0;34m\u001b[0m\u001b[0m\n\u001b[1;32m     11\u001b[0m             \u001b[0mpred\u001b[0m \u001b[0;34m=\u001b[0m \u001b[0mmodel\u001b[0m\u001b[0;34m(\u001b[0m\u001b[0mimage\u001b[0m\u001b[0;34m)\u001b[0m\u001b[0;34m\u001b[0m\u001b[0;34m\u001b[0m\u001b[0m\n",
      "\u001b[0;31mKeyboardInterrupt\u001b[0m: "
     ]
    }
   ],
   "source": [
    "train(task1_model, task1_train_dl, task1_val_dl)"
   ]
  },
  {
   "cell_type": "code",
   "execution_count": 60,
   "metadata": {
    "execution": {
     "iopub.execute_input": "2022-12-17T23:33:39.735110Z",
     "iopub.status.busy": "2022-12-17T23:33:39.734707Z",
     "iopub.status.idle": "2022-12-17T23:33:39.787244Z",
     "shell.execute_reply": "2022-12-17T23:33:39.786276Z",
     "shell.execute_reply.started": "2022-12-17T23:33:39.735076Z"
    }
   },
   "outputs": [],
   "source": [
    "t.save(task1_model.state_dict(), 'task1_model.pth')"
   ]
  },
  {
   "cell_type": "code",
   "execution_count": 62,
   "metadata": {
    "execution": {
     "iopub.execute_input": "2022-12-17T23:33:44.521424Z",
     "iopub.status.busy": "2022-12-17T23:33:44.520667Z",
     "iopub.status.idle": "2022-12-17T23:33:44.526303Z",
     "shell.execute_reply": "2022-12-17T23:33:44.525184Z",
     "shell.execute_reply.started": "2022-12-17T23:33:44.521385Z"
    }
   },
   "outputs": [],
   "source": [
    "#task2\n",
    "learningRate = 1e-3\n",
    "epochs = 200\n",
    "batchSize = 256"
   ]
  },
  {
   "cell_type": "code",
   "execution_count": 63,
   "metadata": {
    "execution": {
     "iopub.execute_input": "2022-12-17T23:33:46.952806Z",
     "iopub.status.busy": "2022-12-17T23:33:46.952423Z",
     "iopub.status.idle": "2022-12-17T23:33:47.034255Z",
     "shell.execute_reply": "2022-12-17T23:33:47.033351Z",
     "shell.execute_reply.started": "2022-12-17T23:33:46.952774Z"
    }
   },
   "outputs": [],
   "source": [
    "task2_train_ds = LoadData(train_data, root=TRAIN_PATH, task='task2')\n",
    "task2_train_dl = DataLoader(task2_train_ds, batch_size=batchSize, num_workers=2, drop_last=True, shuffle=True)\n",
    "\n",
    "task2_val_ds = LoadData(val_data, root=TRAIN_PATH, task='task2')\n",
    "task2_val_dl = DataLoader(task2_val_ds, batch_size=batchSize, num_workers=2, drop_last=False, shuffle=False)"
   ]
  },
  {
   "cell_type": "code",
   "execution_count": 64,
   "metadata": {
    "execution": {
     "iopub.execute_input": "2022-12-17T23:33:49.626083Z",
     "iopub.status.busy": "2022-12-17T23:33:49.625721Z",
     "iopub.status.idle": "2022-12-17T23:33:49.682495Z",
     "shell.execute_reply": "2022-12-17T23:33:49.681498Z",
     "shell.execute_reply.started": "2022-12-17T23:33:49.626053Z"
    },
    "scrolled": true
   },
   "outputs": [
    {
     "name": "stdout",
     "output_type": "stream",
     "text": [
      "Model(\n",
      "  (conv1): Sequential(\n",
      "    (0): Conv2d(3, 36, kernel_size=(3, 3), stride=(1, 1), padding=(1, 1), bias=False)\n",
      "    (1): BatchNorm2d(36, eps=1e-05, momentum=0.1, affine=True, track_running_stats=True)\n",
      "    (2): ReLU()\n",
      "  )\n",
      "  (layer1): Sequential(\n",
      "    (0): Residual(\n",
      "      (conv2_1): Conv2d(36, 36, kernel_size=(3, 3), stride=(1, 1), padding=(1, 1), bias=False)\n",
      "      (bn2_1): BatchNorm2d(36, eps=1e-05, momentum=0.1, affine=True, track_running_stats=True)\n",
      "      (relu): ReLU(inplace=True)\n",
      "      (conv2_2): Conv2d(36, 36, kernel_size=(3, 3), stride=(1, 1), padding=(1, 1), bias=False)\n",
      "      (bn2_2): BatchNorm2d(36, eps=1e-05, momentum=0.1, affine=True, track_running_stats=True)\n",
      "      (shortcut): Sequential()\n",
      "    )\n",
      "    (1): Residual(\n",
      "      (conv2_1): Conv2d(36, 36, kernel_size=(3, 3), stride=(1, 1), padding=(1, 1), bias=False)\n",
      "      (bn2_1): BatchNorm2d(36, eps=1e-05, momentum=0.1, affine=True, track_running_stats=True)\n",
      "      (relu): ReLU(inplace=True)\n",
      "      (conv2_2): Conv2d(36, 36, kernel_size=(3, 3), stride=(1, 1), padding=(1, 1), bias=False)\n",
      "      (bn2_2): BatchNorm2d(36, eps=1e-05, momentum=0.1, affine=True, track_running_stats=True)\n",
      "      (shortcut): Sequential()\n",
      "    )\n",
      "  )\n",
      "  (layer2): Sequential(\n",
      "    (0): Residual(\n",
      "      (conv2_1): Conv2d(36, 72, kernel_size=(3, 3), stride=(2, 2), padding=(1, 1), bias=False)\n",
      "      (bn2_1): BatchNorm2d(72, eps=1e-05, momentum=0.1, affine=True, track_running_stats=True)\n",
      "      (relu): ReLU(inplace=True)\n",
      "      (conv2_2): Conv2d(72, 72, kernel_size=(3, 3), stride=(1, 1), padding=(1, 1), bias=False)\n",
      "      (bn2_2): BatchNorm2d(72, eps=1e-05, momentum=0.1, affine=True, track_running_stats=True)\n",
      "      (shortcut): Sequential(\n",
      "        (0): Conv2d(36, 72, kernel_size=(1, 1), stride=(2, 2), bias=False)\n",
      "        (1): BatchNorm2d(72, eps=1e-05, momentum=0.1, affine=True, track_running_stats=True)\n",
      "      )\n",
      "    )\n",
      "    (1): Residual(\n",
      "      (conv2_1): Conv2d(72, 72, kernel_size=(3, 3), stride=(1, 1), padding=(1, 1), bias=False)\n",
      "      (bn2_1): BatchNorm2d(72, eps=1e-05, momentum=0.1, affine=True, track_running_stats=True)\n",
      "      (relu): ReLU(inplace=True)\n",
      "      (conv2_2): Conv2d(72, 72, kernel_size=(3, 3), stride=(1, 1), padding=(1, 1), bias=False)\n",
      "      (bn2_2): BatchNorm2d(72, eps=1e-05, momentum=0.1, affine=True, track_running_stats=True)\n",
      "      (shortcut): Sequential()\n",
      "    )\n",
      "  )\n",
      "  (layer3): Sequential(\n",
      "    (0): Residual(\n",
      "      (conv2_1): Conv2d(72, 144, kernel_size=(3, 3), stride=(2, 2), padding=(1, 1), bias=False)\n",
      "      (bn2_1): BatchNorm2d(144, eps=1e-05, momentum=0.1, affine=True, track_running_stats=True)\n",
      "      (relu): ReLU(inplace=True)\n",
      "      (conv2_2): Conv2d(144, 144, kernel_size=(3, 3), stride=(1, 1), padding=(1, 1), bias=False)\n",
      "      (bn2_2): BatchNorm2d(144, eps=1e-05, momentum=0.1, affine=True, track_running_stats=True)\n",
      "      (shortcut): Sequential(\n",
      "        (0): Conv2d(72, 144, kernel_size=(1, 1), stride=(2, 2), bias=False)\n",
      "        (1): BatchNorm2d(144, eps=1e-05, momentum=0.1, affine=True, track_running_stats=True)\n",
      "      )\n",
      "    )\n",
      "    (1): Residual(\n",
      "      (conv2_1): Conv2d(144, 144, kernel_size=(3, 3), stride=(1, 1), padding=(1, 1), bias=False)\n",
      "      (bn2_1): BatchNorm2d(144, eps=1e-05, momentum=0.1, affine=True, track_running_stats=True)\n",
      "      (relu): ReLU(inplace=True)\n",
      "      (conv2_2): Conv2d(144, 144, kernel_size=(3, 3), stride=(1, 1), padding=(1, 1), bias=False)\n",
      "      (bn2_2): BatchNorm2d(144, eps=1e-05, momentum=0.1, affine=True, track_running_stats=True)\n",
      "      (shortcut): Sequential()\n",
      "    )\n",
      "  )\n",
      "  (layer4): Sequential(\n",
      "    (0): Residual(\n",
      "      (conv2_1): Conv2d(144, 288, kernel_size=(3, 3), stride=(2, 2), padding=(1, 1), bias=False)\n",
      "      (bn2_1): BatchNorm2d(288, eps=1e-05, momentum=0.1, affine=True, track_running_stats=True)\n",
      "      (relu): ReLU(inplace=True)\n",
      "      (conv2_2): Conv2d(288, 288, kernel_size=(3, 3), stride=(1, 1), padding=(1, 1), bias=False)\n",
      "      (bn2_2): BatchNorm2d(288, eps=1e-05, momentum=0.1, affine=True, track_running_stats=True)\n",
      "      (shortcut): Sequential(\n",
      "        (0): Conv2d(144, 288, kernel_size=(1, 1), stride=(2, 2), bias=False)\n",
      "        (1): BatchNorm2d(288, eps=1e-05, momentum=0.1, affine=True, track_running_stats=True)\n",
      "      )\n",
      "    )\n",
      "    (1): Residual(\n",
      "      (conv2_1): Conv2d(288, 288, kernel_size=(3, 3), stride=(1, 1), padding=(1, 1), bias=False)\n",
      "      (bn2_1): BatchNorm2d(288, eps=1e-05, momentum=0.1, affine=True, track_running_stats=True)\n",
      "      (relu): ReLU(inplace=True)\n",
      "      (conv2_2): Conv2d(288, 288, kernel_size=(3, 3), stride=(1, 1), padding=(1, 1), bias=False)\n",
      "      (bn2_2): BatchNorm2d(288, eps=1e-05, momentum=0.1, affine=True, track_running_stats=True)\n",
      "      (shortcut): Sequential()\n",
      "    )\n",
      "  )\n",
      "  (fc1): Linear(in_features=288, out_features=36, bias=True)\n",
      "  (fc2): Linear(in_features=288, out_features=36, bias=True)\n",
      "  (fc3): Linear(in_features=288, out_features=36, bias=True)\n",
      "  (fc4): Linear(in_features=288, out_features=36, bias=True)\n",
      ")\n"
     ]
    }
   ],
   "source": [
    "task2_model = Model(Residual, task='task2').to(device)\n",
    "print(task2_model)"
   ]
  },
  {
   "cell_type": "code",
   "execution_count": 67,
   "metadata": {
    "execution": {
     "iopub.execute_input": "2022-12-17T23:35:04.578327Z",
     "iopub.status.busy": "2022-12-17T23:35:04.577968Z",
     "iopub.status.idle": "2022-12-17T23:59:33.680910Z",
     "shell.execute_reply": "2022-12-17T23:59:33.678616Z",
     "shell.execute_reply.started": "2022-12-17T23:35:04.578295Z"
    },
    "scrolled": true
   },
   "outputs": [
    {
     "name": "stdout",
     "output_type": "stream",
     "text": [
      "Epoch [0]\n",
      "accuracy (validation): 0.9962981449130688\n",
      "Epoch [1]\n",
      "accuracy (validation): 0.9854421429165627\n",
      "Epoch [2]\n",
      "accuracy (validation): 0.9945512020630564\n",
      "Epoch [3]\n",
      "accuracy (validation): 0.999168122452375\n",
      "Epoch [4]\n",
      "accuracy (validation): 0.9962149571583063\n",
      "Epoch [5]\n",
      "accuracy (validation): 0.9970468347059313\n",
      "Epoch [6]\n",
      "accuracy (validation): 0.9994592795940438\n",
      "Epoch [7]\n",
      "accuracy (validation): 0.9997920306130937\n",
      "Epoch [8]\n",
      "accuracy (validation): 0.9999168122452375\n",
      "Epoch [9]\n",
      "accuracy (validation): 0.9999584061226188\n",
      "Epoch [10]\n",
      "accuracy (validation): 0.9999584061226188\n",
      "Epoch [11]\n",
      "accuracy (validation): 0.9999584061226188\n",
      "Epoch [12]\n"
     ]
    },
    {
     "ename": "KeyboardInterrupt",
     "evalue": "",
     "output_type": "error",
     "traceback": [
      "\u001b[0;31m---------------------------------------------------------------------------\u001b[0m",
      "\u001b[0;31mKeyboardInterrupt\u001b[0m                         Traceback (most recent call last)",
      "\u001b[0;32m/tmp/ipykernel_21286/2913992322.py\u001b[0m in \u001b[0;36m<module>\u001b[0;34m\u001b[0m\n\u001b[0;32m----> 1\u001b[0;31m \u001b[0mtrain\u001b[0m\u001b[0;34m(\u001b[0m\u001b[0mtask2_model\u001b[0m\u001b[0;34m,\u001b[0m \u001b[0mtask2_train_dl\u001b[0m\u001b[0;34m,\u001b[0m \u001b[0mtask2_val_dl\u001b[0m\u001b[0;34m)\u001b[0m\u001b[0;34m\u001b[0m\u001b[0;34m\u001b[0m\u001b[0m\n\u001b[0m",
      "\u001b[0;32m/tmp/ipykernel_21286/2950219584.py\u001b[0m in \u001b[0;36mtrain\u001b[0;34m(model, train_dl, val_dl)\u001b[0m\n\u001b[1;32m      7\u001b[0m         \u001b[0mmodel\u001b[0m\u001b[0;34m.\u001b[0m\u001b[0mtrain\u001b[0m\u001b[0;34m(\u001b[0m\u001b[0;34m)\u001b[0m\u001b[0;34m\u001b[0m\u001b[0;34m\u001b[0m\u001b[0m\n\u001b[1;32m      8\u001b[0m         \u001b[0;32mfor\u001b[0m \u001b[0mimage\u001b[0m\u001b[0;34m,\u001b[0m \u001b[0mlabel\u001b[0m \u001b[0;32min\u001b[0m \u001b[0mtrain_dl\u001b[0m\u001b[0;34m:\u001b[0m\u001b[0;34m\u001b[0m\u001b[0;34m\u001b[0m\u001b[0m\n\u001b[0;32m----> 9\u001b[0;31m             \u001b[0mimage\u001b[0m \u001b[0;34m=\u001b[0m \u001b[0mimage\u001b[0m\u001b[0;34m.\u001b[0m\u001b[0mto\u001b[0m\u001b[0;34m(\u001b[0m\u001b[0mdevice\u001b[0m\u001b[0;34m)\u001b[0m\u001b[0;34m\u001b[0m\u001b[0;34m\u001b[0m\u001b[0m\n\u001b[0m\u001b[1;32m     10\u001b[0m             \u001b[0mlabel\u001b[0m \u001b[0;34m=\u001b[0m \u001b[0mlabel\u001b[0m\u001b[0;34m.\u001b[0m\u001b[0mto\u001b[0m\u001b[0;34m(\u001b[0m\u001b[0mdevice\u001b[0m\u001b[0;34m)\u001b[0m\u001b[0;34m\u001b[0m\u001b[0;34m\u001b[0m\u001b[0m\n\u001b[1;32m     11\u001b[0m             \u001b[0mpred\u001b[0m \u001b[0;34m=\u001b[0m \u001b[0mmodel\u001b[0m\u001b[0;34m(\u001b[0m\u001b[0mimage\u001b[0m\u001b[0;34m)\u001b[0m\u001b[0;34m\u001b[0m\u001b[0;34m\u001b[0m\u001b[0m\n",
      "\u001b[0;31mKeyboardInterrupt\u001b[0m: "
     ]
    }
   ],
   "source": [
    "train(task2_model, task2_train_dl, task2_val_dl)"
   ]
  },
  {
   "cell_type": "code",
   "execution_count": 68,
   "metadata": {
    "execution": {
     "iopub.execute_input": "2022-12-17T23:59:37.394342Z",
     "iopub.status.busy": "2022-12-17T23:59:37.393967Z",
     "iopub.status.idle": "2022-12-17T23:59:37.450337Z",
     "shell.execute_reply": "2022-12-17T23:59:37.449373Z",
     "shell.execute_reply.started": "2022-12-17T23:59:37.394310Z"
    }
   },
   "outputs": [],
   "source": [
    "t.save(task2_model.state_dict(), 'task2_model.pth')"
   ]
  },
  {
   "cell_type": "code",
   "execution_count": 22,
   "metadata": {
    "execution": {
     "iopub.execute_input": "2022-12-17T20:33:59.822281Z",
     "iopub.status.busy": "2022-12-17T20:33:59.821921Z",
     "iopub.status.idle": "2022-12-17T20:33:59.827327Z",
     "shell.execute_reply": "2022-12-17T20:33:59.826081Z",
     "shell.execute_reply.started": "2022-12-17T20:33:59.822249Z"
    }
   },
   "outputs": [],
   "source": [
    "#task3\n",
    "learningRate = 1e-3\n",
    "epochs = 300\n",
    "batchSize = 256"
   ]
  },
  {
   "cell_type": "code",
   "execution_count": 23,
   "metadata": {
    "execution": {
     "iopub.execute_input": "2022-12-17T20:34:01.732010Z",
     "iopub.status.busy": "2022-12-17T20:34:01.731651Z",
     "iopub.status.idle": "2022-12-17T20:34:01.792344Z",
     "shell.execute_reply": "2022-12-17T20:34:01.791473Z",
     "shell.execute_reply.started": "2022-12-17T20:34:01.731979Z"
    }
   },
   "outputs": [],
   "source": [
    "task3_train_ds = LoadData(train_data, root=TRAIN_PATH, task='task3')\n",
    "task3_train_dl = DataLoader(task3_train_ds, batch_size=batchSize, num_workers=2, drop_last=True, shuffle=True)\n",
    "\n",
    "task3_val_ds = LoadData(val_data, root=TRAIN_PATH, task='task3')\n",
    "task3_val_dl = DataLoader(task3_val_ds, batch_size=batchSize, num_workers=2, drop_last=False, shuffle=False)"
   ]
  },
  {
   "cell_type": "code",
   "execution_count": 24,
   "metadata": {
    "execution": {
     "iopub.execute_input": "2022-12-17T20:34:03.973436Z",
     "iopub.status.busy": "2022-12-17T20:34:03.973080Z",
     "iopub.status.idle": "2022-12-17T20:34:04.026414Z",
     "shell.execute_reply": "2022-12-17T20:34:04.025400Z",
     "shell.execute_reply.started": "2022-12-17T20:34:03.973405Z"
    },
    "scrolled": true
   },
   "outputs": [
    {
     "name": "stdout",
     "output_type": "stream",
     "text": [
      "Model(\n",
      "  (conv1): Sequential(\n",
      "    (0): Conv2d(3, 36, kernel_size=(3, 3), stride=(1, 1), padding=(1, 1), bias=False)\n",
      "    (1): BatchNorm2d(36, eps=1e-05, momentum=0.1, affine=True, track_running_stats=True)\n",
      "    (2): ReLU()\n",
      "  )\n",
      "  (layer1): Sequential(\n",
      "    (0): Residual(\n",
      "      (conv2_1): Conv2d(36, 36, kernel_size=(3, 3), stride=(1, 1), padding=(1, 1), bias=False)\n",
      "      (bn2_1): BatchNorm2d(36, eps=1e-05, momentum=0.1, affine=True, track_running_stats=True)\n",
      "      (relu): ReLU(inplace=True)\n",
      "      (conv2_2): Conv2d(36, 36, kernel_size=(3, 3), stride=(1, 1), padding=(1, 1), bias=False)\n",
      "      (bn2_2): BatchNorm2d(36, eps=1e-05, momentum=0.1, affine=True, track_running_stats=True)\n",
      "      (shortcut): Sequential()\n",
      "    )\n",
      "    (1): Residual(\n",
      "      (conv2_1): Conv2d(36, 36, kernel_size=(3, 3), stride=(1, 1), padding=(1, 1), bias=False)\n",
      "      (bn2_1): BatchNorm2d(36, eps=1e-05, momentum=0.1, affine=True, track_running_stats=True)\n",
      "      (relu): ReLU(inplace=True)\n",
      "      (conv2_2): Conv2d(36, 36, kernel_size=(3, 3), stride=(1, 1), padding=(1, 1), bias=False)\n",
      "      (bn2_2): BatchNorm2d(36, eps=1e-05, momentum=0.1, affine=True, track_running_stats=True)\n",
      "      (shortcut): Sequential()\n",
      "    )\n",
      "  )\n",
      "  (layer2): Sequential(\n",
      "    (0): Residual(\n",
      "      (conv2_1): Conv2d(36, 72, kernel_size=(3, 3), stride=(2, 2), padding=(1, 1), bias=False)\n",
      "      (bn2_1): BatchNorm2d(72, eps=1e-05, momentum=0.1, affine=True, track_running_stats=True)\n",
      "      (relu): ReLU(inplace=True)\n",
      "      (conv2_2): Conv2d(72, 72, kernel_size=(3, 3), stride=(1, 1), padding=(1, 1), bias=False)\n",
      "      (bn2_2): BatchNorm2d(72, eps=1e-05, momentum=0.1, affine=True, track_running_stats=True)\n",
      "      (shortcut): Sequential(\n",
      "        (0): Conv2d(36, 72, kernel_size=(1, 1), stride=(2, 2), bias=False)\n",
      "        (1): BatchNorm2d(72, eps=1e-05, momentum=0.1, affine=True, track_running_stats=True)\n",
      "      )\n",
      "    )\n",
      "    (1): Residual(\n",
      "      (conv2_1): Conv2d(72, 72, kernel_size=(3, 3), stride=(1, 1), padding=(1, 1), bias=False)\n",
      "      (bn2_1): BatchNorm2d(72, eps=1e-05, momentum=0.1, affine=True, track_running_stats=True)\n",
      "      (relu): ReLU(inplace=True)\n",
      "      (conv2_2): Conv2d(72, 72, kernel_size=(3, 3), stride=(1, 1), padding=(1, 1), bias=False)\n",
      "      (bn2_2): BatchNorm2d(72, eps=1e-05, momentum=0.1, affine=True, track_running_stats=True)\n",
      "      (shortcut): Sequential()\n",
      "    )\n",
      "  )\n",
      "  (layer3): Sequential(\n",
      "    (0): Residual(\n",
      "      (conv2_1): Conv2d(72, 144, kernel_size=(3, 3), stride=(2, 2), padding=(1, 1), bias=False)\n",
      "      (bn2_1): BatchNorm2d(144, eps=1e-05, momentum=0.1, affine=True, track_running_stats=True)\n",
      "      (relu): ReLU(inplace=True)\n",
      "      (conv2_2): Conv2d(144, 144, kernel_size=(3, 3), stride=(1, 1), padding=(1, 1), bias=False)\n",
      "      (bn2_2): BatchNorm2d(144, eps=1e-05, momentum=0.1, affine=True, track_running_stats=True)\n",
      "      (shortcut): Sequential(\n",
      "        (0): Conv2d(72, 144, kernel_size=(1, 1), stride=(2, 2), bias=False)\n",
      "        (1): BatchNorm2d(144, eps=1e-05, momentum=0.1, affine=True, track_running_stats=True)\n",
      "      )\n",
      "    )\n",
      "    (1): Residual(\n",
      "      (conv2_1): Conv2d(144, 144, kernel_size=(3, 3), stride=(1, 1), padding=(1, 1), bias=False)\n",
      "      (bn2_1): BatchNorm2d(144, eps=1e-05, momentum=0.1, affine=True, track_running_stats=True)\n",
      "      (relu): ReLU(inplace=True)\n",
      "      (conv2_2): Conv2d(144, 144, kernel_size=(3, 3), stride=(1, 1), padding=(1, 1), bias=False)\n",
      "      (bn2_2): BatchNorm2d(144, eps=1e-05, momentum=0.1, affine=True, track_running_stats=True)\n",
      "      (shortcut): Sequential()\n",
      "    )\n",
      "  )\n",
      "  (layer4): Sequential(\n",
      "    (0): Residual(\n",
      "      (conv2_1): Conv2d(144, 288, kernel_size=(3, 3), stride=(2, 2), padding=(1, 1), bias=False)\n",
      "      (bn2_1): BatchNorm2d(288, eps=1e-05, momentum=0.1, affine=True, track_running_stats=True)\n",
      "      (relu): ReLU(inplace=True)\n",
      "      (conv2_2): Conv2d(288, 288, kernel_size=(3, 3), stride=(1, 1), padding=(1, 1), bias=False)\n",
      "      (bn2_2): BatchNorm2d(288, eps=1e-05, momentum=0.1, affine=True, track_running_stats=True)\n",
      "      (shortcut): Sequential(\n",
      "        (0): Conv2d(144, 288, kernel_size=(1, 1), stride=(2, 2), bias=False)\n",
      "        (1): BatchNorm2d(288, eps=1e-05, momentum=0.1, affine=True, track_running_stats=True)\n",
      "      )\n",
      "    )\n",
      "    (1): Residual(\n",
      "      (conv2_1): Conv2d(288, 288, kernel_size=(3, 3), stride=(1, 1), padding=(1, 1), bias=False)\n",
      "      (bn2_1): BatchNorm2d(288, eps=1e-05, momentum=0.1, affine=True, track_running_stats=True)\n",
      "      (relu): ReLU(inplace=True)\n",
      "      (conv2_2): Conv2d(288, 288, kernel_size=(3, 3), stride=(1, 1), padding=(1, 1), bias=False)\n",
      "      (bn2_2): BatchNorm2d(288, eps=1e-05, momentum=0.1, affine=True, track_running_stats=True)\n",
      "      (shortcut): Sequential()\n",
      "    )\n",
      "  )\n",
      "  (fc1): Linear(in_features=288, out_features=36, bias=True)\n",
      "  (fc2): Linear(in_features=288, out_features=36, bias=True)\n",
      "  (fc3): Linear(in_features=288, out_features=36, bias=True)\n",
      "  (fc4): Linear(in_features=288, out_features=36, bias=True)\n",
      ")\n"
     ]
    }
   ],
   "source": [
    "task3_model = Model(Residual, task='task3').to(device)\n",
    "print(task3_model)"
   ]
  },
  {
   "cell_type": "code",
   "execution_count": 39,
   "metadata": {
    "execution": {
     "iopub.execute_input": "2022-12-17T21:42:14.471313Z",
     "iopub.status.busy": "2022-12-17T21:42:14.470928Z",
     "iopub.status.idle": "2022-12-17T23:00:53.143152Z",
     "shell.execute_reply": "2022-12-17T23:00:53.141602Z",
     "shell.execute_reply.started": "2022-12-17T21:42:14.471277Z"
    },
    "scrolled": true
   },
   "outputs": [
    {
     "name": "stdout",
     "output_type": "stream",
     "text": [
      "Epoch [0]\n",
      "accuracy (validation): 0.9717115721681001\n",
      "Epoch [1]\n",
      "accuracy (validation): 0.9869155830921615\n",
      "Epoch [2]\n",
      "accuracy (validation): 0.9826763950597155\n",
      "Epoch [3]\n",
      "accuracy (validation): 0.9855296946969389\n",
      "Epoch [4]\n",
      "accuracy (validation): 0.97990461826927\n",
      "Epoch [5]\n",
      "accuracy (validation): 0.9865079688582725\n",
      "Epoch [6]\n",
      "accuracy (validation): 0.9744425875351568\n",
      "Epoch [7]\n",
      "accuracy (validation): 0.9516977132841479\n",
      "Epoch [8]\n",
      "accuracy (validation): 0.9466025353605347\n",
      "Epoch [9]\n",
      "accuracy (validation): 0.989279745648718\n",
      "Epoch [10]\n",
      "accuracy (validation): 0.9788040598377695\n",
      "Epoch [11]\n",
      "accuracy (validation): 0.966616394244487\n",
      "Epoch [12]\n",
      "accuracy (validation): 0.9799861411160478\n",
      "Epoch [13]\n",
      "accuracy (validation): 0.9801899482329923\n",
      "Epoch [14]\n",
      "accuracy (validation): 0.9909102025842742\n",
      "Epoch [15]\n",
      "accuracy (validation): 0.9849590347694942\n",
      "Epoch [16]\n",
      "accuracy (validation): 0.9894427913422736\n",
      "Epoch [17]\n",
      "accuracy (validation): 0.9906656340439408\n",
      "Epoch [18]\n",
      "accuracy (validation): 0.9818204051685485\n",
      "Epoch [19]\n",
      "accuracy (validation): 0.9933966494109975\n",
      "Epoch [20]\n",
      "accuracy (validation): 0.9845106591122162\n",
      "Epoch [21]\n",
      "accuracy (validation): 0.9931113194472752\n",
      "Epoch [22]\n",
      "accuracy (validation): 0.9883829943341621\n",
      "Epoch [23]\n",
      "accuracy (validation): 0.9932743651408307\n",
      "Epoch [24]\n",
      "accuracy (validation): 0.9933558879876085\n",
      "Epoch [25]\n",
      "accuracy (validation): 0.9846737048057718\n",
      "Epoch [26]\n",
      "accuracy (validation): 0.9926221823666083\n",
      "Epoch [27]\n",
      "accuracy (validation): 0.9915216239351078\n",
      "Epoch [28]\n",
      "accuracy (validation): 0.996168426201443\n",
      "Epoch [29]\n",
      "accuracy (validation): 0.9879753801002731\n",
      "Epoch [30]\n",
      "accuracy (validation): 0.9804345167733257\n",
      "Epoch [31]\n",
      "accuracy (validation): 0.9941303550319978\n",
      "Epoch [32]\n",
      "accuracy (validation): 0.9916439082052745\n",
      "Epoch [33]\n",
      "accuracy (validation): 0.99144010108833\n",
      "Epoch [34]\n",
      "accuracy (validation): 0.9849182733461053\n",
      "Epoch [35]\n",
      "accuracy (validation): 0.9909102025842742\n",
      "Epoch [36]\n",
      "accuracy (validation): 0.9951086291933314\n",
      "Epoch [37]\n"
     ]
    },
    {
     "ename": "KeyboardInterrupt",
     "evalue": "",
     "output_type": "error",
     "traceback": [
      "\u001b[0;31m---------------------------------------------------------------------------\u001b[0m",
      "\u001b[0;31mKeyboardInterrupt\u001b[0m                         Traceback (most recent call last)",
      "\u001b[0;32m/tmp/ipykernel_21286/4173538144.py\u001b[0m in \u001b[0;36m<module>\u001b[0;34m\u001b[0m\n\u001b[0;32m----> 1\u001b[0;31m \u001b[0mtrain\u001b[0m\u001b[0;34m(\u001b[0m\u001b[0mtask3_model\u001b[0m\u001b[0;34m,\u001b[0m \u001b[0mtask3_train_dl\u001b[0m\u001b[0;34m,\u001b[0m \u001b[0mtask3_val_dl\u001b[0m\u001b[0;34m)\u001b[0m\u001b[0;34m\u001b[0m\u001b[0;34m\u001b[0m\u001b[0m\n\u001b[0m",
      "\u001b[0;32m/tmp/ipykernel_21286/484842802.py\u001b[0m in \u001b[0;36mtrain\u001b[0;34m(model, train_dl, val_dl)\u001b[0m\n\u001b[1;32m      7\u001b[0m         \u001b[0mmodel\u001b[0m\u001b[0;34m.\u001b[0m\u001b[0mtrain\u001b[0m\u001b[0;34m(\u001b[0m\u001b[0;34m)\u001b[0m\u001b[0;34m\u001b[0m\u001b[0;34m\u001b[0m\u001b[0m\n\u001b[1;32m      8\u001b[0m         \u001b[0;32mfor\u001b[0m \u001b[0mimage\u001b[0m\u001b[0;34m,\u001b[0m \u001b[0mlabel\u001b[0m \u001b[0;32min\u001b[0m \u001b[0mtrain_dl\u001b[0m\u001b[0;34m:\u001b[0m\u001b[0;34m\u001b[0m\u001b[0;34m\u001b[0m\u001b[0m\n\u001b[0;32m----> 9\u001b[0;31m             \u001b[0mimage\u001b[0m \u001b[0;34m=\u001b[0m \u001b[0mimage\u001b[0m\u001b[0;34m.\u001b[0m\u001b[0mto\u001b[0m\u001b[0;34m(\u001b[0m\u001b[0mdevice\u001b[0m\u001b[0;34m)\u001b[0m\u001b[0;34m\u001b[0m\u001b[0;34m\u001b[0m\u001b[0m\n\u001b[0m\u001b[1;32m     10\u001b[0m             \u001b[0mlabel\u001b[0m \u001b[0;34m=\u001b[0m \u001b[0mlabel\u001b[0m\u001b[0;34m.\u001b[0m\u001b[0mto\u001b[0m\u001b[0;34m(\u001b[0m\u001b[0mdevice\u001b[0m\u001b[0;34m)\u001b[0m\u001b[0;34m\u001b[0m\u001b[0;34m\u001b[0m\u001b[0m\n\u001b[1;32m     11\u001b[0m             \u001b[0mpred\u001b[0m \u001b[0;34m=\u001b[0m \u001b[0mmodel\u001b[0m\u001b[0;34m(\u001b[0m\u001b[0mimage\u001b[0m\u001b[0;34m)\u001b[0m\u001b[0;34m\u001b[0m\u001b[0;34m\u001b[0m\u001b[0m\n",
      "\u001b[0;31mKeyboardInterrupt\u001b[0m: "
     ]
    }
   ],
   "source": [
    "train(task3_model, task3_train_dl, task3_val_dl)"
   ]
  },
  {
   "cell_type": "code",
   "execution_count": 40,
   "metadata": {
    "execution": {
     "iopub.execute_input": "2022-12-17T23:00:57.391661Z",
     "iopub.status.busy": "2022-12-17T23:00:57.390577Z",
     "iopub.status.idle": "2022-12-17T23:00:57.450234Z",
     "shell.execute_reply": "2022-12-17T23:00:57.449217Z",
     "shell.execute_reply.started": "2022-12-17T23:00:57.391619Z"
    }
   },
   "outputs": [],
   "source": [
    "t.save(task3_model.state_dict(), 'task3_model.pth')"
   ]
  }
 ],
 "metadata": {
  "kernelspec": {
   "display_name": "Python 3 (ipykernel)",
   "language": "python",
   "name": "python3"
  },
  "language_info": {
   "codemirror_mode": {
    "name": "ipython",
    "version": 3
   },
   "file_extension": ".py",
   "mimetype": "text/x-python",
   "name": "python",
   "nbconvert_exporter": "python",
   "pygments_lexer": "ipython3",
   "version": "3.10.6"
  }
 },
 "nbformat": 4,
 "nbformat_minor": 4
}
